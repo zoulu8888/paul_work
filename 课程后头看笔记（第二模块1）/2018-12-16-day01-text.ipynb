{
 "cells": [
  {
   "cell_type": "markdown",
   "metadata": {},
   "source": [
    "  # 第二模块结束后回头练习汇总"
   ]
  },
  {
   "cell_type": "markdown",
   "metadata": {},
   "source": [
    "##   1、将电话号码打上星号隐藏"
   ]
  },
  {
   "cell_type": "markdown",
   "metadata": {},
   "source": [
    "### 普通版"
   ]
  },
  {
   "cell_type": "code",
   "execution_count": 45,
   "metadata": {},
   "outputs": [
    {
     "name": "stdout",
     "output_type": "stream",
     "text": [
      "请输入电话号码:13859698593\n",
      "隐藏后的电话号码是：********593\n"
     ]
    }
   ],
   "source": [
    "phone_number = input('请输入电话号码:') #这是一个字符串\n",
    "hiding_number = phone_number.replace(phone_number[0:8],'*' * 8)\n",
    "print (f'隐藏后的电话号码是：{hiding_number}')"
   ]
  },
  {
   "cell_type": "markdown",
   "metadata": {},
   "source": [
    "###  先留空看看到时候补充其他版本"
   ]
  },
  {
   "cell_type": "markdown",
   "metadata": {},
   "source": []
  },
  {
   "cell_type": "markdown",
   "metadata": {},
   "source": [
    "## 2、用find这个方法找到电话号码的位置"
   ]
  },
  {
   "cell_type": "code",
   "execution_count": 35,
   "metadata": {},
   "outputs": [],
   "source": [
    "search = '168' #find是查找字符串的的方法，所以168要加双引号\n",
    "num1 = '13856168742'\n",
    "num2 = '13277316822'"
   ]
  },
  {
   "cell_type": "code",
   "execution_count": 46,
   "metadata": {},
   "outputs": [
    {
     "data": {
      "text/plain": [
       "int"
      ]
     },
     "execution_count": 46,
     "metadata": {},
     "output_type": "execute_result"
    }
   ],
   "source": [
    "type(len(search))"
   ]
  },
  {
   "cell_type": "code",
   "execution_count": 47,
   "metadata": {},
   "outputs": [
    {
     "name": "stdout",
     "output_type": "stream",
     "text": [
      "168 is at5to53of num1\n"
     ]
    }
   ],
   "source": [
    "print (search + ' is at' + str(num1.find(search)) + 'to'+ str(num1.find(search)) + str(len(search)) +  'of num1') \n",
    "#这种字符串加法前后只能是字符串，不是的需要强制转换。"
   ]
  },
  {
   "cell_type": "markdown",
   "metadata": {},
   "source": [
    "## 3、字符串格式化"
   ]
  },
  {
   "cell_type": "code",
   "execution_count": 49,
   "metadata": {},
   "outputs": [
    {
     "name": "stdout",
     "output_type": "stream",
     "text": [
      "write down the name of city:fujian\n",
      "fujian http://apistore.baidu.com/microserice/weather?citypinyin=fujian\n"
     ]
    }
   ],
   "source": [
    "city = input ('write down the name of city:')\n",
    "url = f'http://apistore.baidu.com/microserice/weather?citypinyin={city}'  #这实际上是百度API提供的调用天气的代码片段\n",
    "print (city,url)"
   ]
  },
  {
   "cell_type": "markdown",
   "metadata": {},
   "source": [
    "## 4、定义一个摄氏度转华氏度和勾股定理斜边的函数"
   ]
  },
  {
   "cell_type": "code",
   "execution_count": 4,
   "metadata": {},
   "outputs": [],
   "source": [
    "def fahrenheit_converter (c): #def与return都是关键字，定义函数之后记得加冒号\n",
    "    fahrenheit = c * 1.8 + 32 \n",
    "    return (str(fahrenheit)+ ' F')   #这种字符串加法前后只能是字符串，不是的需要强制转换。return后面可以不要有括号\n",
    "    #要注意缩进，函数缩进后的语句被称为语句块，为了表面语句和逻辑的从属关系"
   ]
  },
  {
   "cell_type": "code",
   "execution_count": 5,
   "metadata": {},
   "outputs": [
    {
     "data": {
      "text/plain": [
       "'89.6 F'"
      ]
     },
     "execution_count": 5,
     "metadata": {},
     "output_type": "execute_result"
    }
   ],
   "source": [
    "c2f = fahrenheit_converter (32)\n",
    "c2f"
   ]
  },
  {
   "cell_type": "code",
   "execution_count": 25,
   "metadata": {},
   "outputs": [],
   "source": [
    "def Pythagorean_theorem (a,b):\n",
    "    length_of_side = (a**2 + b**2)**(1/2) \n",
    "    return f'The right triangle third side length is {length_of_side}'"
   ]
  },
  {
   "cell_type": "code",
   "execution_count": 26,
   "metadata": {},
   "outputs": [
    {
     "name": "stdout",
     "output_type": "stream",
     "text": [
      "The right triangle third side length is 5.0\n"
     ]
    }
   ],
   "source": [
    "ans = Pythagorean_theorem(3,4)\n",
    "print (ans)"
   ]
  },
  {
   "cell_type": "code",
   "execution_count": 27,
   "metadata": {},
   "outputs": [
    {
     "data": {
      "text/plain": [
       "str"
      ]
     },
     "execution_count": 27,
     "metadata": {},
     "output_type": "execute_result"
    }
   ],
   "source": [
    "type (ans)"
   ]
  },
  {
   "cell_type": "markdown",
   "metadata": {},
   "source": [
    "- 函数传递参数与参数类型"
   ]
  },
  {
   "cell_type": "code",
   "execution_count": 43,
   "metadata": {},
   "outputs": [],
   "source": [
    "def trapezoid_area (base_up,base_down,height): #自己赋值\n",
    "    area = (1/2)*(base_up + base_down)*height\n",
    "    return area"
   ]
  },
  {
   "cell_type": "code",
   "execution_count": 41,
   "metadata": {},
   "outputs": [
    {
     "name": "stdout",
     "output_type": "stream",
     "text": [
      "4.5\n"
     ]
    }
   ],
   "source": [
    "area = trapezoid_area(1,2,3)\n",
    "print(area)"
   ]
  },
  {
   "cell_type": "code",
   "execution_count": 45,
   "metadata": {},
   "outputs": [
    {
     "ename": "TypeError",
     "evalue": "trapezoid_area() missing 1 required positional argument: 'height'",
     "output_type": "error",
     "traceback": [
      "\u001b[1;31m---------------------------------------------------------------------------\u001b[0m",
      "\u001b[1;31mTypeError\u001b[0m                                 Traceback (most recent call last)",
      "\u001b[1;32m<ipython-input-45-80a59df6b5b9>\u001b[0m in \u001b[0;36m<module>\u001b[1;34m\u001b[0m\n\u001b[1;32m----> 1\u001b[1;33m \u001b[0marea\u001b[0m \u001b[1;33m=\u001b[0m \u001b[0mtrapezoid_area\u001b[0m\u001b[1;33m(\u001b[0m\u001b[1;36m1\u001b[0m\u001b[1;33m,\u001b[0m\u001b[1;36m2\u001b[0m\u001b[1;33m)\u001b[0m\u001b[1;33m\u001b[0m\u001b[1;33m\u001b[0m\u001b[0m\n\u001b[0m\u001b[0;32m      2\u001b[0m \u001b[1;31m#需要注意没默认值的情况下，最先定义的参数缺一不可，否则报错。\u001b[0m\u001b[1;33m\u001b[0m\u001b[1;33m\u001b[0m\u001b[1;33m\u001b[0m\u001b[0m\n\u001b[0;32m      3\u001b[0m \u001b[0mprint\u001b[0m\u001b[1;33m(\u001b[0m\u001b[0marea\u001b[0m\u001b[1;33m)\u001b[0m\u001b[1;33m\u001b[0m\u001b[1;33m\u001b[0m\u001b[0m\n",
      "\u001b[1;31mTypeError\u001b[0m: trapezoid_area() missing 1 required positional argument: 'height'"
     ]
    }
   ],
   "source": [
    "area = trapezoid_area(1,2) \n",
    "#需要注意没默认值的情况下，最先定义的参数缺一不可，否则报错。\n",
    "print(area)"
   ]
  },
  {
   "cell_type": "code",
   "execution_count": 32,
   "metadata": {},
   "outputs": [],
   "source": [
    "def trapezoid_area (base_up=1,base_down=2,height=3): #自己赋值\n",
    "    area = (1/2)*(base_up + base_down)*height\n",
    "    return area"
   ]
  },
  {
   "cell_type": "code",
   "execution_count": 34,
   "metadata": {},
   "outputs": [
    {
     "name": "stdout",
     "output_type": "stream",
     "text": [
      "4.5\n"
     ]
    }
   ],
   "source": [
    "area = trapezoid_area() #使用默认值\n",
    "print(area)"
   ]
  },
  {
   "cell_type": "code",
   "execution_count": 36,
   "metadata": {},
   "outputs": [
    {
     "name": "stdout",
     "output_type": "stream",
     "text": [
      "7.5\n"
     ]
    }
   ],
   "source": [
    "area = trapezoid_area(2,3) #前两个赋值，高度用默认值\n",
    "print(area)"
   ]
  },
  {
   "cell_type": "code",
   "execution_count": 38,
   "metadata": {},
   "outputs": [
    {
     "name": "stdout",
     "output_type": "stream",
     "text": [
      "4.5\n"
     ]
    }
   ],
   "source": [
    "area = trapezoid_area(base_down=2,base_up=1) #这样打乱顺序也可以，只要有明确名称赋值\n",
    "print(area)"
   ]
  },
  {
   "cell_type": "code",
   "execution_count": 40,
   "metadata": {},
   "outputs": [
    {
     "ename": "SyntaxError",
     "evalue": "invalid character in identifier (<ipython-input-40-ba2d763d906b>, line 1)",
     "output_type": "error",
     "traceback": [
      "\u001b[1;36m  File \u001b[1;32m\"<ipython-input-40-ba2d763d906b>\"\u001b[1;36m, line \u001b[1;32m1\u001b[0m\n\u001b[1;33m    area = trapezoid_area(1，base_down=2,base_up=1)\u001b[0m\n\u001b[1;37m                                    ^\u001b[0m\n\u001b[1;31mSyntaxError\u001b[0m\u001b[1;31m:\u001b[0m invalid character in identifier\n"
     ]
    }
   ],
   "source": [
    "area = trapezoid_area(1，base_down=2,base_up=1) \n",
    "#这样是不行的，位置前后还是需要对应\n",
    "print(area)"
   ]
  },
  {
   "cell_type": "markdown",
   "metadata": {},
   "source": [
    "## 5、创建列表"
   ]
  },
  {
   "cell_type": "code",
   "execution_count": 106,
   "metadata": {},
   "outputs": [],
   "source": [
    "album = ['black star','david bowie',25,True]\n",
    "#这只是练习，在实际中最好一个列表放一种类型"
   ]
  },
  {
   "cell_type": "code",
   "execution_count": 93,
   "metadata": {},
   "outputs": [],
   "source": [
    "album.append('new song')"
   ]
  },
  {
   "cell_type": "code",
   "execution_count": 95,
   "metadata": {},
   "outputs": [
    {
     "data": {
      "text/plain": [
       "['balck star', 'david bowie', 25, True, 'new song', 'new song']"
      ]
     },
     "execution_count": 95,
     "metadata": {},
     "output_type": "execute_result"
    }
   ],
   "source": [
    "album"
   ]
  },
  {
   "cell_type": "code",
   "execution_count": 100,
   "metadata": {},
   "outputs": [
    {
     "name": "stdout",
     "output_type": "stream",
     "text": [
      "balck star new song\n"
     ]
    }
   ],
   "source": [
    "print (album[0],album[-1])"
   ]
  },
  {
   "cell_type": "code",
   "execution_count": 102,
   "metadata": {},
   "outputs": [
    {
     "name": "stdout",
     "output_type": "stream",
     "text": [
      "balck \n"
     ]
    }
   ],
   "source": [
    "print (album[0][0:6]) #可以用与字符串一样的查询方式，可以嵌套查询"
   ]
  },
  {
   "cell_type": "code",
   "execution_count": 107,
   "metadata": {},
   "outputs": [
    {
     "data": {
      "text/plain": [
       "False"
      ]
     },
     "execution_count": 107,
     "metadata": {},
     "output_type": "execute_result"
    }
   ],
   "source": [
    "'balck' in album  #用in来判断字符串是否在当前列表中"
   ]
  },
  {
   "cell_type": "code",
   "execution_count": 109,
   "metadata": {},
   "outputs": [
    {
     "data": {
      "text/plain": [
       "True"
      ]
     },
     "execution_count": 109,
     "metadata": {},
     "output_type": "execute_result"
    }
   ],
   "source": [
    "'black star' in album  #用in来判断字符串是否在当前列表中"
   ]
  },
  {
   "cell_type": "markdown",
   "metadata": {},
   "source": [
    "## 6、条件控制"
   ]
  },
  {
   "cell_type": "markdown",
   "metadata": {},
   "source": [
    "- 写一个登入验证函数"
   ]
  },
  {
   "cell_type": "code",
   "execution_count": 56,
   "metadata": {},
   "outputs": [],
   "source": [
    "def account_login (): #因为要用到输入功能，所以这里可以不用写参数\n",
    "    pwd = input ('Please input you password:')\n",
    "    admin_pwd = \"123456\"\n",
    "    if pwd == admin_pwd: #要注意各个位置的冒号\n",
    "        print ('success!')\n",
    "        #如果用print来输出，最后会多出一个None.改return可以解决。\n",
    "    else:#要注意各个位置的冒号\n",
    "        print('Password is wrong! Plesae input again')\n",
    "        account_login() #如果输入出错，再次调用自己！"
   ]
  },
  {
   "cell_type": "code",
   "execution_count": 59,
   "metadata": {},
   "outputs": [
    {
     "name": "stdout",
     "output_type": "stream",
     "text": [
      "Please input you password:123\n",
      "Password is wrong! Plesae input again\n",
      "Please input you password:123456\n",
      "success!\n",
      "None\n"
     ]
    }
   ],
   "source": [
    "verify = account_login()\n",
    "print (verify)"
   ]
  },
  {
   "cell_type": "markdown",
   "metadata": {},
   "source": [
    "- 登入验证（赋值另一个参数，直接用布尔值判断，一般表达式太长的时候这么用）"
   ]
  },
  {
   "cell_type": "code",
   "execution_count": 61,
   "metadata": {},
   "outputs": [],
   "source": [
    "def account_login (): #因为要用到输入功能，所以这里可以不用写参数\n",
    "    pwd = input ('Please input your password:')\n",
    "    admin_pwd = \"123456\"\n",
    "    pwd_correct = pwd==admin_pwd #直接返回真假给下面IF判断用\n",
    "    if pwd_correct: #要注意各个位置的冒号\n",
    "        print ('success!')\n",
    "        #如果用print来输出，最后会多出一个None.改return可以解决。\n",
    "    else:#要注意各个位置的冒号\n",
    "        print('Password is wrong! Plesae input again')\n",
    "        account_login() #如果输入出错，再次调用自己！"
   ]
  },
  {
   "cell_type": "code",
   "execution_count": 62,
   "metadata": {},
   "outputs": [
    {
     "name": "stdout",
     "output_type": "stream",
     "text": [
      "Please input you password:123\n",
      "Password is wrong! Plesae input again\n",
      "Please input you password:123456\n",
      "success!\n",
      "None\n"
     ]
    }
   ],
   "source": [
    "verify = account_login()\n",
    "print (verify)"
   ]
  },
  {
   "cell_type": "markdown",
   "metadata": {},
   "source": [
    "- 登入验证（增加一个重置密码功能）"
   ]
  },
  {
   "cell_type": "code",
   "execution_count": 8,
   "metadata": {},
   "outputs": [],
   "source": [
    "psw_list = ['###','123456'] #定义一个列表，0是重置口令，1是密码\n",
    "def account_login (): #定义一个函数\n",
    "    pwd = input('Please input your password: ')\n",
    "    pwd_correct = pwd==psw_list[-1] #因为考虑到重置后密码是追加到尾部，所以用-1\n",
    "    pwd_reset = pwd==psw_list[0]\n",
    "    if  pwd_correct:\n",
    "        print ('login success!')\n",
    "    elif pwd_reset:\n",
    "        new_pwd = input('Please input your new_password:')\n",
    "        psw_list.append(new_pwd)\n",
    "        print ('Your password has changed success!')\n",
    "        account_login()\n",
    "    else:\n",
    "        print ('Wrong!,Please input your password again')\n",
    "        account_login()\n",
    "    \n",
    "    "
   ]
  },
  {
   "cell_type": "code",
   "execution_count": 9,
   "metadata": {},
   "outputs": [
    {
     "name": "stdout",
     "output_type": "stream",
     "text": [
      "Please input your password: ###\n",
      "Please input your new_password:123\n",
      "Your password has changed success!\n",
      "Please input your password: 123\n",
      "login success!\n",
      "None\n"
     ]
    }
   ],
   "source": [
    "verify = account_login()\n",
    "print (verify)"
   ]
  },
  {
   "cell_type": "markdown",
   "metadata": {},
   "source": [
    "## 7、循环（loop）"
   ]
  },
  {
   "cell_type": "markdown",
   "metadata": {},
   "source": [
    "-  for 循环"
   ]
  },
  {
   "cell_type": "code",
   "execution_count": 36,
   "metadata": {},
   "outputs": [
    {
     "name": "stdout",
     "output_type": "stream",
     "text": [
      "hellopython"
     ]
    }
   ],
   "source": [
    "something = ' hello python '\n",
    "a=something.strip() #这个只是去除头尾的空格\n",
    "b=something.replace(' ','') #替换空格为空\n",
    "for every_letter in b:\n",
    "    print(every_letter,end='') #end修改默认换行"
   ]
  },
  {
   "cell_type": "markdown",
   "metadata": {},
   "source": [
    "- print? #可查看参数"
   ]
  },
  {
   "attachments": {
    "image.png": {
     "image/png": "[encoded data removed]"
    }
   },
   "cell_type": "markdown",
   "metadata": {},
   "source": [
    "![image.png](attachment:image.png)"
   ]
  },
  {
   "cell_type": "code",
   "execution_count": 92,
   "metadata": {},
   "outputs": [
    {
     "name": "stdout",
     "output_type": "stream",
     "text": [
      " 1+1 =  2\n",
      " 2+1 =  3\n",
      " 3+1 =  4\n",
      " 4+1 =  5\n",
      " 5+1 =  6\n",
      " 6+1 =  7\n",
      " 7+1 =  8\n",
      " 8+1 =  9\n",
      " 9+1 = 10\n",
      "10+1 = 11\n"
     ]
    }
   ],
   "source": [
    "for num in range(1,11):\n",
    "    a=num+1\n",
    "    b=str(a)\n",
    "    c=b.rjust(2) #右对齐\n",
    "    print(str(num).rjust(2)+'+1 =',c) #右对齐"
   ]
  },
  {
   "cell_type": "code",
   "execution_count": 76,
   "metadata": {},
   "outputs": [],
   "source": [
    "b.rjust?"
   ]
  },
  {
   "cell_type": "markdown",
   "metadata": {},
   "source": [
    "- 来做个更复杂的，将for与if结合（歌曲对应歌手）"
   ]
  },
  {
   "cell_type": "code",
   "execution_count": 97,
   "metadata": {
    "scrolled": true
   },
   "outputs": [
    {
     "name": "stdout",
     "output_type": "stream",
     "text": [
      "Holy Diver -Dio\n",
      "Thunderstruck -AC/DC\n",
      "Rebel Rebel -Devid Bowie\n"
     ]
    }
   ],
   "source": [
    "songs_list = ['Holy Diver','Thunderstruck','Rebel Rebel']\n",
    "for song in songs_list:\n",
    "    if song == 'Holy Diver':\n",
    "        print(song,'-Dio')\n",
    "    elif song =='Thunderstruck':\n",
    "        print (song,'-AC/DC')\n",
    "    elif song =='Rebel Rebel': #else后面是不可以跟条件的，所以还是用elif\n",
    "        print (song,'-Devid Bowie')"
   ]
  },
  {
   "cell_type": "markdown",
   "metadata": {},
   "source": [
    "- 嵌套循环 （Nested Loop）"
   ]
  },
  {
   "cell_type": "markdown",
   "metadata": {},
   "source": [
    "- 九九乘法表"
   ]
  },
  {
   "cell_type": "code",
   "execution_count": 120,
   "metadata": {},
   "outputs": [
    {
     "name": "stdout",
     "output_type": "stream",
     "text": [
      "1*1 = 1 1*2 = 2 1*3 = 3 1*4 = 4 1*5 = 5 1*6 = 6 1*7 = 7 1*8 = 8 \n",
      "2*1 = 2 2*2 = 4 2*3 = 6 2*4 = 8 2*5 = 10 2*6 = 12 2*7 = 14 2*8 = 16 \n",
      "3*1 = 3 3*2 = 6 3*3 = 9 3*4 = 12 3*5 = 15 3*6 = 18 3*7 = 21 3*8 = 24 \n",
      "4*1 = 4 4*2 = 8 4*3 = 12 4*4 = 16 4*5 = 20 4*6 = 24 4*7 = 28 4*8 = 32 \n",
      "5*1 = 5 5*2 = 10 5*3 = 15 5*4 = 20 5*5 = 25 5*6 = 30 5*7 = 35 5*8 = 40 \n",
      "6*1 = 6 6*2 = 12 6*3 = 18 6*4 = 24 6*5 = 30 6*6 = 36 6*7 = 42 6*8 = 48 \n",
      "7*1 = 7 7*2 = 14 7*3 = 21 7*4 = 28 7*5 = 35 7*6 = 42 7*7 = 49 7*8 = 56 \n",
      "8*1 = 8 8*2 = 16 8*3 = 24 8*4 = 32 8*5 = 40 8*6 = 48 8*7 = 56 8*8 = 64 \n"
     ]
    }
   ],
   "source": [
    "for i in range(1,9):\n",
    "    for j in range(1,9):\n",
    "        print(f'{i}*{j} = {i*j}',end=' ')                \n",
    "    print()"
   ]
  },
  {
   "cell_type": "code",
   "execution_count": 124,
   "metadata": {},
   "outputs": [
    {
     "name": "stdout",
     "output_type": "stream",
     "text": [
      "9*1 = 9  9*2 = 18 9*3 = 27 9*4 = 36 9*5 = 45 9*6 = 54 9*7 = 63 9*8 = 72 9*9 = 81 \n",
      "8*1 = 8  8*2 = 16 8*3 = 24 8*4 = 32 8*5 = 40 8*6 = 48 8*7 = 56 8*8 = 64 \n",
      "7*1 = 7  7*2 = 14 7*3 = 21 7*4 = 28 7*5 = 35 7*6 = 42 7*7 = 49 \n",
      "6*1 = 6  6*2 = 12 6*3 = 18 6*4 = 24 6*5 = 30 6*6 = 36 \n",
      "5*1 = 5  5*2 = 10 5*3 = 15 5*4 = 20 5*5 = 25 \n",
      "4*1 = 4  4*2 = 8  4*3 = 12 4*4 = 16 \n",
      "3*1 = 3  3*2 = 6  3*3 = 9  \n",
      "2*1 = 2  2*2 = 4  \n",
      "1*1 = 1  \n"
     ]
    }
   ],
   "source": [
    "for i in range(9,0,-1):\n",
    "    for j in range(1,i+1): #range(0,5)不包括5\n",
    "        print(f'{i}*{j} = {str(i*j).ljust(2)}',end=' ')  #左对齐\n",
    "    print() #打完一行换行"
   ]
  },
  {
   "cell_type": "code",
   "execution_count": 128,
   "metadata": {},
   "outputs": [
    {
     "name": "stdout",
     "output_type": "stream",
     "text": [
      "一*九=九  二*九=一八 三*九=二七 四*九=三六 五*九=四五 六*九=五四 七*九=六三 八*九=七二 九*九=八一 \n",
      "一*八=八  二*八=一六 三*八=二四 四*八=三二 五*八=四零 六*八=四八 七*八=五六 八*八=六四 \n",
      "一*七=七  二*七=一四 三*七=二一 四*七=二八 五*七=三五 六*七=四二 七*七=四九 \n",
      "一*六=六  二*六=一二 三*六=一八 四*六=二四 五*六=三零 六*六=三六 \n",
      "一*五=五  二*五=一零 三*五=一五 四*五=二零 五*五=二五 \n",
      "一*四=四  二*四=八  三*四=一二 四*四=一六 \n",
      "一*三=三  二*三=六  三*三=九  \n",
      "一*二=二  二*二=四  \n",
      "一*一=一  \n"
     ]
    }
   ],
   "source": [
    "ch_numbers = [' ', '一', '二', '三', '四', '五', '六', '七', '八', '九', '零'] #第0位用空是为了后面左对齐后单位数字取右值不会出错\n",
    "numbers = [' ', '1', '2', '3', '4', '5', '6', '7', '8', '9', '0']\n",
    "for i in range(9, 0, -1):\n",
    "    for j in range(1, i+1):\n",
    "        result = str(i*j).ljust(2)#加2个空格是为了防止如果是单位数字比如9，index取右边报错。\n",
    "        left = ch_numbers[numbers.index(result[0])]#例如9，result0取左右的9,index查找9在第几位，然后对应输出中文版的数字，列表之前已经在第0位加了空格，所以9可以直接对应九。认真理解下，这个方法经常用。\n",
    "        right = ch_numbers[numbers.index(result[1])]\n",
    "        print(f\"{ch_numbers[j]}*{ch_numbers[i]}={left}{right}\", end=\" \")\n",
    "    print()"
   ]
  },
  {
   "cell_type": "markdown",
   "metadata": {},
   "source": [
    "- while循环"
   ]
  },
  {
   "cell_type": "markdown",
   "metadata": {},
   "source": [
    "- Python中有两种循环，一种是之前提到的for循环，还有一种就是while循环。它们的相同点在于都能循环做一件重复的事情，不同点在于for循环会在可迭代的序列被穷尽的时候停止，while则是在条件不成立的时候停止，因此while的作用概括成一句话就是：只要...成立，就一直做...。"
   ]
  },
  {
   "attachments": {
    "image.png": {
     "image/png": "[encoded data removed]"
    }
   },
   "cell_type": "markdown",
   "metadata": {},
   "source": [
    "![image.png](attachment:image.png)"
   ]
  },
  {
   "cell_type": "code",
   "execution_count": 133,
   "metadata": {},
   "outputs": [
    {
     "name": "stdout",
     "output_type": "stream",
     "text": [
      "Repeat this line!!\n",
      "Repeat this line!!\n",
      "Repeat this line!!\n",
      "Repeat this line!!\n",
      "Repeat this line!!\n",
      "Repeat this line!!\n"
     ]
    }
   ],
   "source": [
    "count = 0\n",
    "while True: #使用while一定要注意设置循环跳出机制\n",
    "    print ('Repeat this line!!')\n",
    "    count = count+1 #如果没有if计数语句，这个会死循环（Infinite Loop）\n",
    "    if count > 5:\n",
    "           break"
   ]
  },
  {
   "cell_type": "markdown",
   "metadata": {},
   "source": [
    "- 利用循环递减的方式写一个登入验证（三次输入错误跳出）"
   ]
  },
  {
   "cell_type": "code",
   "execution_count": 110,
   "metadata": {},
   "outputs": [
    {
     "name": "stdout",
     "output_type": "stream",
     "text": [
      "Please input your password: 123\n",
      "Wrong!,Please input your password again\n",
      "2 time left\n",
      "Please input your password: 123\n",
      "Wrong!,Please input your password again\n",
      "1 time left\n",
      "Please input your password: 1\n",
      "Wrong!,Please input your password again\n",
      "0 time left\n",
      "Password input error 3 times, exit.\n"
     ]
    }
   ],
   "source": [
    "psw_list = ['###','123456'] #定义一个列表，0是重置口令，1是密码\n",
    "def account_login (): #定义一个函数\n",
    "    tries = 3\n",
    "    while tries > 0:\n",
    "        pwd = input('Please input your password: ')\n",
    "        pwd_correct = pwd==psw_list[-1] #因为考虑到重置后密码是追加到尾部，所以用-1\n",
    "        pwd_reset = pwd==psw_list[0]\n",
    "        if  pwd_correct:\n",
    "            print ('login success!')\n",
    "        elif pwd_reset:\n",
    "            new_pwd = input('Please input your new_password:')\n",
    "            psw_list.append(new_pwd)\n",
    "            print ('Your password has changed success!')\n",
    "            account_login()\n",
    "        else:\n",
    "            print ('Wrong!,Please input your password again')\n",
    "            tries = tries - 1\n",
    "            print(tries,'time left')\n",
    "            \n",
    "    else:\n",
    "        print ('Password input error 3 times, exit.')\n",
    "        \n",
    "account_login()"
   ]
  },
  {
   "cell_type": "markdown",
   "metadata": {},
   "source": [
    "- 写一个猜大小的游戏\n",
    "- 要求：  \n",
    "       1、出三个数字\n",
    "       2、玩家首先压大小BIG or SMALL\n",
    "       3、总值在11-18之间为大，3-10之间为小\n",
    "       4、告诉玩家对还是错"
   ]
  },
  {
   "cell_type": "code",
   "execution_count": 124,
   "metadata": {},
   "outputs": [
    {
     "name": "stdout",
     "output_type": "stream",
     "text": [
      "6 3 6\n"
     ]
    }
   ],
   "source": [
    "import random\n",
    "\n",
    "point1 = random.randrange(1,7)\n",
    "point2 = random.randrange(1,7)\n",
    "point3 = random.randrange(1,7)\n",
    "print(point1,point2,point3)"
   ]
  },
  {
   "cell_type": "code",
   "execution_count": null,
   "metadata": {},
   "outputs": [],
   "source": []
  }
 ],
 "metadata": {
  "kernelspec": {
   "display_name": "Python 3",
   "language": "python",
   "name": "python3"
  },
  "language_info": {
   "codemirror_mode": {
    "name": "ipython",
    "version": 3
   },
   "file_extension": ".py",
   "mimetype": "text/x-python",
   "name": "python",
   "nbconvert_exporter": "python",
   "pygments_lexer": "ipython3",
   "version": "3.7.1"
  }
 },
 "nbformat": 4,
 "nbformat_minor": 2
}
